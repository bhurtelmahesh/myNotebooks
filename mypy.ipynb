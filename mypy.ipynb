{
 "cells": [
  {
   "cell_type": "code",
   "execution_count": 1,
   "metadata": {},
   "outputs": [
    {
     "name": "stdout",
     "output_type": "stream",
     "text": [
      "1 2 3\n",
      "1\n",
      "2\n",
      "3\n"
     ]
    }
   ],
   "source": [
    "# python list unpacking ....1\n",
    "\n",
    "a, b, c = [1, 2, 3]\n",
    "print(a, b, c)\n",
    "\n",
    "print(a)\n",
    "print(b)\n",
    "print(c)\n"
   ]
  },
  {
   "cell_type": "code",
   "execution_count": 2,
   "metadata": {},
   "outputs": [
    {
     "name": "stdout",
     "output_type": "stream",
     "text": [
      "1 2 3 [4, 5, 6, 8, 9]\n",
      "[4, 5, 6, 8, 9]\n",
      "1\n",
      "2\n",
      "3\n"
     ]
    }
   ],
   "source": [
    "# python list unpacking ....2\n",
    "\n",
    "x, y, z, *other = [1, 2, 3, 4, 5, 6, 8, 9]\n",
    "print(x, y, z, other)\n",
    "print(other)\n",
    "print(x)\n",
    "print(y)\n",
    "print(z)"
   ]
  },
  {
   "cell_type": "code",
   "execution_count": 4,
   "metadata": {},
   "outputs": [
    {
     "name": "stdout",
     "output_type": "stream",
     "text": [
      "1 2 3 [4, 5, 6] 8 9\n",
      "[4, 5, 6]\n",
      "1\n",
      "2\n",
      "3\n",
      "8\n",
      "9\n"
     ]
    }
   ],
   "source": [
    "# python list unpacking ....3\n",
    "\n",
    "x, y, z, *other, a, b = [1, 2, 3, 4, 5, 6, 8, 9]\n",
    "print(x, y, z, other, a, b)\n",
    "print(other)\n",
    "print(x)\n",
    "print(y)\n",
    "print(z)\n",
    "print(a)\n",
    "print(b)"
   ]
  },
  {
   "cell_type": "code",
   "execution_count": 5,
   "metadata": {},
   "outputs": [
    {
     "name": "stdout",
     "output_type": "stream",
     "text": [
      "Removed digit: 5 Remainder: 3 false \n"
     ]
    }
   ],
   "source": [
    "# Check if the last digit is equal to the remainder\n",
    "\n",
    "\n",
    "number = input(\"Enter a 6-digit number:\")\n",
    "last_digit = number[-1]\n",
    "number = number[:5]\n",
    "remainder = int(number) % 7\n",
    "if remainder == int(last_digit):\n",
    "  print(f\"Removed digit: {str(last_digit)} Remainder: {str(remainder)} true \")\n",
    "else:\n",
    "  print(f\"Removed digit: {str(last_digit)} Remainder: {str(remainder)} false \")"
   ]
  },
  {
   "cell_type": "code",
   "execution_count": 23,
   "metadata": {},
   "outputs": [
    {
     "name": "stdout",
     "output_type": "stream",
     "text": [
      "Hey, Bhurtel Dai! Your Password ********* is 9 characters long.\n"
     ]
    }
   ],
   "source": [
    "# Check password length\n",
    "\n",
    "username = input(\"Enter your username:\")\n",
    "password = input(\"Enter your password:\")\n",
    "print(f\"Hey, {username}! Your Password { '*' * len(password) } is {len(password)} characters long.\")"
   ]
  },
  {
   "cell_type": "code",
   "execution_count": 24,
   "metadata": {},
   "outputs": [
    {
     "name": "stdout",
     "output_type": "stream",
     "text": [
      "Your age is 26\n"
     ]
    }
   ],
   "source": [
    "# guess my age\n",
    "\n",
    "\n",
    "birth_year = int(input(\"Enter your birth year: \"))\n",
    "if birth_year <= 100:\n",
    "    birth_year += 1900\n",
    "age = 2021 - int(birth_year)\n",
    "print(f\"Your age is {age}\")"
   ]
  },
  {
   "cell_type": "code",
   "execution_count": 27,
   "metadata": {},
   "outputs": [
    {
     "name": "stdout",
     "output_type": "stream",
     "text": [
      "The longest word is 'placeholder'\n",
      "The longest word is placeholder\n"
     ]
    }
   ],
   "source": [
    "#find the longest word in a sentence .....1\n",
    "\n",
    "txt = input(\"Enter a sentence: \")\n",
    "words = txt.split()\n",
    "lengths = []\n",
    "for i in words:\n",
    "    lengths.append(len(i))\n",
    "longest = max(lengths)\n",
    "place = lengths.index(longest)\n",
    "print(f\"The longest word is '{words[place]}'\")\n",
    "#OR\n",
    "print(f\"The longest word is {words[lengths.index(max(lengths))]}\")"
   ]
  },
  {
   "cell_type": "code",
   "execution_count": 28,
   "metadata": {},
   "outputs": [
    {
     "name": "stdout",
     "output_type": "stream",
     "text": [
      "The longest word is '新型コロナウイルスのオミクロン株の感染が拡大しています。ただでさえ冬場はかぜをひきやすい季節。かぜの症状がある場合は新型コロナかなと不安になる人も多いのではないでしょうか。'\n"
     ]
    }
   ],
   "source": [
    "#find the longest word in a sentence .....2\n",
    "\n",
    "txt = input(\"Enter a sentence: \")\n",
    "words = txt.split()\n",
    "longest = words[0]\n",
    "for i in words:\n",
    "    if len(i) > len(longest):\n",
    "        longest = i\n",
    "print(f\"The longest word is '{longest}'\")\n"
   ]
  },
  {
   "cell_type": "code",
   "execution_count": 3,
   "metadata": {},
   "outputs": [
    {
     "name": "stdout",
     "output_type": "stream",
     "text": [
      "The input  has 0 characters and 0 bytes\n",
      "b''\n",
      "\n"
     ]
    }
   ],
   "source": [
    "# check how many bytes are in a string\n",
    "\n",
    "sentence = input(\"Enter a sentence: \")\n",
    "print(f\"The input {sentence} has {len(sentence)} characters and {len(sentence.encode())} bytes\")\n",
    "\n",
    "#encode with base64\n",
    "x = sentence.encode()\n",
    "print(x)\n",
    "\n",
    "#decode with base64\n",
    "y = x.decode()\n",
    "print(y)"
   ]
  },
  {
   "cell_type": "code",
   "execution_count": 3,
   "metadata": {},
   "outputs": [
    {
     "name": "stdout",
     "output_type": "stream",
     "text": [
      "SGVsbG8gV29ybGQ=\n"
     ]
    }
   ],
   "source": [
    "# decode a base64 string\n",
    "\n",
    "a = \"SGVsbG8gV29ybGQ=\"\n",
    "b = a.encode()\n",
    "c = b.decode()\n",
    "print(c)\n",
    "\n"
   ]
  },
  {
   "cell_type": "code",
   "execution_count": null,
   "metadata": {},
   "outputs": [],
   "source": [
    "#OOP in Python\n",
    "#Python Object Types\n",
    "\n",
    "print(type(None))\n",
    "print(type(True))\n",
    "print(type(5))\n",
    "print(type(5.5))\n",
    "print(type('hi'))\n",
    "print(type([]))\n",
    "print(type({}))\n",
    "print(type(()))\n",
    "print(type(22/7))"
   ]
  }
 ],
 "metadata": {
  "interpreter": {
   "hash": "aee8b7b246df8f9039afb4144a1f6fd8d2ca17a180786b69acc140d282b71a49"
  },
  "kernelspec": {
   "display_name": "Python 3.10.1 64-bit",
   "language": "python",
   "name": "python3"
  },
  "language_info": {
   "codemirror_mode": {
    "name": "ipython",
    "version": 3
   },
   "file_extension": ".py",
   "mimetype": "text/x-python",
   "name": "python",
   "nbconvert_exporter": "python",
   "pygments_lexer": "ipython3",
   "version": "3.10.2"
  },
  "orig_nbformat": 4
 },
 "nbformat": 4,
 "nbformat_minor": 2
}
