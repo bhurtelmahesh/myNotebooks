{
 "cells": [
  {
   "cell_type": "code",
   "execution_count": null,
   "metadata": {},
   "outputs": [],
   "source": [
    "# Check if the last digit is equal to the remainder\n",
    "\n",
    "\n",
    "number = input(\"Enter a 6-digit number:\")\n",
    "last_digit = number[-1]\n",
    "number = number[:5]\n",
    "remainder = int(number) % 7\n",
    "if remainder == int(last_digit):\n",
    "  print(f\"Removed digit: {str(last_digit)} Remainder: {str(remainder)} true \")\n",
    "else:\n",
    "  print(f\"Removed digit: {str(last_digit)} Remainder: {str(remainder)} false \")"
   ]
  },
  {
   "cell_type": "code",
   "execution_count": null,
   "metadata": {},
   "outputs": [],
   "source": [
    "# Check password length\n",
    "\n",
    "username = input(\"Enter your username:\")\n",
    "password = input(\"Enter your password:\")\n",
    "print(f\"Hey, {username}! Your Password: { '*' * len(password) } is {len(password)} characters long.\")"
   ]
  },
  {
   "cell_type": "code",
   "execution_count": null,
   "metadata": {},
   "outputs": [],
   "source": [
    "# guess my age\n",
    "\n",
    "\n",
    "birth_year = int(input(\"Enter your birth year: \"))\n",
    "if birth_year <= 100:\n",
    "    birth_year += 1900\n",
    "age = 2021 - int(birth_year)\n",
    "print(f\"Your age is {age}\")"
   ]
  },
  {
   "cell_type": "code",
   "execution_count": null,
   "metadata": {},
   "outputs": [
    {
     "ename": "",
     "evalue": "",
     "output_type": "error",
     "traceback": [
      "\u001b[1;31mFailed to start the Kernel. \n",
      "Failed to start the Kernel 'Python 3.10.1 64-bit'. \n",
      "View Jupyter <a href='command:jupyter.viewOutput'>log</a> for further details. The value of \"err\" is out of range. It must be a negative integer. Received 1"
     ]
    }
   ],
   "source": [
    "#find the longest word in a sentence .....1\n",
    "\n",
    "txt = input(\"Enter a sentence: \")\n",
    "words = txt.split()\n",
    "lengths = []\n",
    "for i in words:\n",
    "    lengths.append(len(i))\n",
    "longest = max(lengths)\n",
    "place = lengths.index(longest)\n",
    "print(f\"The longest word is {words[place]}\")\n",
    "#OR\n",
    "#print(f\"The longest word is {words[lengths.index(max(lengths))]}\")"
   ]
  },
  {
   "cell_type": "code",
   "execution_count": null,
   "metadata": {},
   "outputs": [],
   "source": []
  }
 ],
 "metadata": {
  "interpreter": {
   "hash": "aee8b7b246df8f9039afb4144a1f6fd8d2ca17a180786b69acc140d282b71a49"
  },
  "kernelspec": {
   "display_name": "Python 3.10.1 64-bit",
   "language": "python",
   "name": "python3"
  },
  "language_info": {
   "name": "python",
   "version": "3.10.1"
  },
  "orig_nbformat": 4
 },
 "nbformat": 4,
 "nbformat_minor": 2
}
