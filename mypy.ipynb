{
 "cells": [
  {
   "cell_type": "code",
   "execution_count": null,
   "metadata": {},
   "outputs": [],
   "source": [
    "# Check if the last digit is equal to the remainder\n",
    "\n",
    "\n",
    "number = input(\"Enter a 6-digit number:\")\n",
    "last_digit = number[-1]\n",
    "number = number[:5]\n",
    "remainder = int(number) % 7\n",
    "if remainder == int(last_digit):\n",
    "  print(f\"Removed digit: {str(last_digit)} Remainder: {str(remainder)} true \")\n",
    "else:\n",
    "  print(f\"Removed digit: {str(last_digit)} Remainder: {str(remainder)} false \")"
   ]
  },
  {
   "cell_type": "code",
   "execution_count": null,
   "metadata": {},
   "outputs": [],
   "source": [
    "# Check password length\n",
    "\n",
    "\n",
    "username = input(\"Enter your username:\")\n",
    "password = input(\"Enter your password:\")\n",
    "print(f\"Hey, {username}! Your Password: { '*' * len(password) } is {len(password)} characters long.\")"
   ]
  },
  {
   "cell_type": "code",
   "execution_count": null,
   "metadata": {},
   "outputs": [],
   "source": [
    "# guess my age\n",
    "\n",
    "\n",
    "birth_year = int(input(\"Enter your birth year: \"))\n",
    "if birth_year <= 100:\n",
    "    birth_year += 1900\n",
    "age = 2021 - int(birth_year)\n",
    "print(f\"Your age is {age}\")"
   ]
  }
 ],
 "metadata": {
  "language_info": {
   "name": "python"
  },
  "orig_nbformat": 4
 },
 "nbformat": 4,
 "nbformat_minor": 2
}
